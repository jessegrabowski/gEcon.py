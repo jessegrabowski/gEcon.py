{
 "cells": [
  {
   "cell_type": "markdown",
   "id": "0d57a06c",
   "metadata": {
    "toc": true
   },
   "source": [
    "<h1>Table of Contents<span class=\"tocSkip\"></span></h1>\n",
    "<div class=\"toc\"><ul class=\"toc-item\"><li><span><a href=\"#Load-Test-Model\" data-toc-modified-id=\"Load-Test-Model-1\"><span class=\"toc-item-num\">1&nbsp;&nbsp;</span>Load Test Model</a></span><ul class=\"toc-item\"><li><ul class=\"toc-item\"><li><span><a href=\"#Extract-useful-info-from-the-model-object\" data-toc-modified-id=\"Extract-useful-info-from-the-model-object-1.0.1\"><span class=\"toc-item-num\">1.0.1&nbsp;&nbsp;</span>Extract useful info from the model object</a></span></li><li><span><a href=\"#Generate-artifical-data\" data-toc-modified-id=\"Generate-artifical-data-1.0.2\"><span class=\"toc-item-num\">1.0.2&nbsp;&nbsp;</span>Generate artifical data</a></span></li></ul></li></ul></li><li><span><a href=\"#Aesara-graph\" data-toc-modified-id=\"Aesara-graph-2\"><span class=\"toc-item-num\">2&nbsp;&nbsp;</span>Aesara graph</a></span><ul class=\"toc-item\"><li><span><a href=\"#Solve-for-Steady-State\" data-toc-modified-id=\"Solve-for-Steady-State-2.1\"><span class=\"toc-item-num\">2.1&nbsp;&nbsp;</span>Solve for Steady State</a></span></li><li><span><a href=\"#Solve-for-First-Order-Linearized-Policy-Matrices-via-Cycle-Reduction\" data-toc-modified-id=\"Solve-for-First-Order-Linearized-Policy-Matrices-via-Cycle-Reduction-2.2\"><span class=\"toc-item-num\">2.2&nbsp;&nbsp;</span>Solve for First Order Linearized Policy Matrices via Cycle Reduction</a></span><ul class=\"toc-item\"><li><span><a href=\"#Sanity-Check:-Impulse-Response-Functions-from-T,-R\" data-toc-modified-id=\"Sanity-Check:-Impulse-Response-Functions-from-T,-R-2.2.1\"><span class=\"toc-item-num\">2.2.1&nbsp;&nbsp;</span>Sanity Check: Impulse Response Functions from T, R</a></span></li><li><span><a href=\"#Confirm-we-have-end-to-end-gradients-of-the-system-w.r.t.-deep-parameters\" data-toc-modified-id=\"Confirm-we-have-end-to-end-gradients-of-the-system-w.r.t.-deep-parameters-2.2.2\"><span class=\"toc-item-num\">2.2.2&nbsp;&nbsp;</span>Confirm we have end-to-end gradients of the system w.r.t. deep parameters</a></span></li></ul></li><li><span><a href=\"#Kalman-Filter\" data-toc-modified-id=\"Kalman-Filter-2.3\"><span class=\"toc-item-num\">2.3&nbsp;&nbsp;</span>Kalman Filter</a></span><ul class=\"toc-item\"><li><span><a href=\"#Compute-log-likelihood-of-the-data\" data-toc-modified-id=\"Compute-log-likelihood-of-the-data-2.3.1\"><span class=\"toc-item-num\">2.3.1&nbsp;&nbsp;</span>Compute log likelihood of the data</a></span></li><li><span><a href=\"#Check-gradients-of-the-log-likelihood-w.r.t.-deep-parameters\" data-toc-modified-id=\"Check-gradients-of-the-log-likelihood-w.r.t.-deep-parameters-2.3.2\"><span class=\"toc-item-num\">2.3.2&nbsp;&nbsp;</span>Check gradients of the log likelihood w.r.t. deep parameters</a></span></li></ul></li></ul></li></ul></div>"
   ]
  },
  {
   "cell_type": "code",
   "execution_count": 1,
   "id": "f0ab4302",
   "metadata": {},
   "outputs": [],
   "source": [
    "from gEcon.classes.model import gEconModel\n",
    "import numpy as np\n",
    "import pandas as pd\n",
    "import aesara\n",
    "import aesara.tensor as at\n",
    "from aesara.compile.builders import OpFromGraph\n",
    "from aesara.scan.utils import until as scan_until\n",
    "\n",
    "import sympy as sp\n",
    "from sympy.printing.aesaracode import aesara_code\n",
    "\n",
    "import matplotlib.pyplot as plt\n",
    "config = {'figure.figsize':(14,4),\n",
    "          'figure.dpi':100,\n",
    "          'figure.facecolor':'w',\n",
    "          'axes.grid':True,\n",
    "          'grid.linewidth':0.5,\n",
    "          'grid.linestyle':'--',\n",
    "          'axes.spines.top':False,\n",
    "          'axes.spines.bottom':False,\n",
    "          'axes.spines.left':False,\n",
    "          'axes.spines.right':False}\n",
    "\n",
    "plt.rcParams.update(config)\n"
   ]
  },
  {
   "cell_type": "markdown",
   "id": "76414183",
   "metadata": {},
   "source": [
    "# Load Test Model\n",
    "\n",
    "Use a baseline RBC, and solve it with the numpy/sympy code as a baseline"
   ]
  },
  {
   "cell_type": "code",
   "execution_count": 2,
   "id": "01340232",
   "metadata": {},
   "outputs": [
    {
     "name": "stdout",
     "output_type": "stream",
     "text": [
      "Model Building Complete.\n",
      "Found:\n",
      "\t13 equations\n",
      "\t13 variables\n",
      "\t1 stochastic shock\n",
      "\t\t 0 / 1 has a defined prior. \n",
      "\t6 parameters\n",
      "\t\t 0 / 6 has a defined prior. \n",
      "\t0 calibrating equations\n",
      "\t0 parameters to calibrate\n",
      " Model appears well defined and ready to proceed to solving.\n",
      "\n",
      "Steady state found! Sum of squared residuals is 6.226407420419094e-24\n",
      "Solution found, sum of squared residuals:  7.075155451456433e-30\n",
      "Norm of deterministic part: 0.000000000\n",
      "Norm of stochastic part:    0.000000000\n"
     ]
    }
   ],
   "source": [
    "model = gEconModel('tests/Test GCNs/Two_Block_RBC_1.gcn')\n",
    "model.steady_state()\n",
    "model.solve_model()"
   ]
  },
  {
   "cell_type": "markdown",
   "id": "c517b062",
   "metadata": {},
   "source": [
    "### Extract useful info from the model object"
   ]
  },
  {
   "cell_type": "code",
   "execution_count": 3,
   "id": "f02150af",
   "metadata": {},
   "outputs": [],
   "source": [
    "n_variables = model.n_variables\n",
    "param_dict = model.free_param_dict.copy()\n",
    "ss_system = model.steady_state_solver.steady_state_system\n",
    "all_vars = sorted(model.variables, key=lambda x: x.name)\n",
    "ss_vars = [x.to_ss() for x in all_vars]\n",
    "\n",
    "params_as_symbols = [sp.Symbol(x) for x in model.free_param_dict.keys()]\n",
    "\n",
    "Fs = model._perturbation_setup(not_loglin_variable=None, order=1, model_is_linear=False, verbose=False, return_F_matrices=True)"
   ]
  },
  {
   "cell_type": "markdown",
   "id": "2b94a7ba",
   "metadata": {},
   "source": [
    "### Generate artifical data"
   ]
  },
  {
   "cell_type": "code",
   "execution_count": 4,
   "id": "fcfde4ce",
   "metadata": {},
   "outputs": [],
   "source": [
    "observed_vars = ['Y']\n",
    "\n",
    "fake_observed = (model.simulate(simulation_length=100, n_simulations=1, shock_cov_matrix=np.eye(1) * 0.1)\n",
    "                      .droplevel(axis=1, level=1)\n",
    "                      .sort_index(axis=1)\n",
    "                      .T\n",
    "                      .loc[:, observed_vars])\n",
    "\n",
    "n_obs = len(observed_vars)\n",
    "Z = np.zeros((n_obs, model.n_variables))\n",
    "Z_mask = [x.base_name in observed_vars for x in sorted(model.variables, key=lambda x: x.base_name)]\n",
    "Z[np.arange(n_obs), Z_mask] = 1"
   ]
  },
  {
   "cell_type": "markdown",
   "id": "f6f631e0",
   "metadata": {},
   "source": [
    "# Aesara graph"
   ]
  },
  {
   "cell_type": "code",
   "execution_count": 5,
   "id": "cacbb766",
   "metadata": {},
   "outputs": [],
   "source": [
    "cache_dict = {}\n",
    "\n",
    "aesara_vars_ss = [aesara_code(x, cache=cache_dict) for x in ss_vars]\n",
    "aesara_params = [aesara_code(x, cache=cache_dict) for x in params_as_symbols]\n",
    "\n",
    "aesara_items = aesara_params + aesara_vars_ss\n",
    "\n",
    "aesara_ss_system = at.stack([aesara_code(eq, cache=cache_dict) for eq in ss_system])\n",
    "jacobian_ss = sp.Matrix([[eq.diff(x) for x in ss_vars] for eq in ss_system])\n",
    "aesara_jac = aesara_code(jacobian_ss, cache=cache_dict)\n",
    "\n",
    "A = aesara_code(Fs[0], cache=cache_dict)\n",
    "B = aesara_code(Fs[1], cache=cache_dict)\n",
    "C = aesara_code(Fs[2], cache=cache_dict)\n",
    "D = aesara_code(Fs[3], cache=cache_dict).astype('float64')"
   ]
  },
  {
   "cell_type": "markdown",
   "id": "4b8f4427",
   "metadata": {},
   "source": [
    "## Solve for Steady State "
   ]
  },
  {
   "cell_type": "code",
   "execution_count": 6,
   "id": "b5b29182",
   "metadata": {},
   "outputs": [],
   "source": [
    "step_size = at.dscalar('step_size')\n",
    "ss_max_iter = at.iscalar('ss_max_iter')\n",
    "ss_tol  = at.dscalar('ss_tol')\n",
    "\n",
    "F_ss = OpFromGraph(aesara_items, [aesara_ss_system], name='F_ss', on_unused_input='ignore')\n",
    "J_ss = OpFromGraph(aesara_items, [aesara_jac], name='J_ss', on_unused_input='ignore')\n",
    "\n",
    "def newton_step(X, old_F, old_J, n_steps, params, step_size, tol):\n",
    "    \n",
    "    new_X = X - step_size * at.linalg.solve(old_J, old_F)\n",
    "    new_F = F_ss(*params, *[new_X[i] for i in range(n_variables)])\n",
    "    new_J = J_ss(*params, *[new_X[i] for i in range(n_variables)])\n",
    "    n_steps += 1\n",
    "    \n",
    "    return (new_X, new_F, new_J, n_steps), scan_until(at.linalg.norm(new_F, ord=1) < tol)\n",
    "\n",
    "# Initial values\n",
    "F0 = F_ss(*aesara_items)\n",
    "J0 = J_ss(*aesara_items)\n",
    "\n",
    "# Scan\n",
    "result, updates = aesara.scan(newton_step,\n",
    "                              outputs_info=[aesara_vars_ss, F0, J0, at.zeros(1)],\n",
    "                              non_sequences=[aesara_params, step_size, ss_tol],\n",
    "                              n_steps=ss_max_iter)\n",
    "\n",
    "roots, resids, jacobains, n_step = result\n",
    "root = roots[-1]\n",
    "resid = resids[-1]\n",
    "jac = jacobains[-1]\n",
    "n = n_step[-1]"
   ]
  },
  {
   "cell_type": "markdown",
   "id": "f64bc393",
   "metadata": {},
   "source": [
    "## Solve for First Order Linearized Policy Matrices via Cycle Reduction"
   ]
  },
  {
   "cell_type": "code",
   "execution_count": 7,
   "id": "0284c0ff",
   "metadata": {},
   "outputs": [],
   "source": [
    "F_A = OpFromGraph(aesara_items, [A], on_unused_input='ignore', name='F_A')\n",
    "F_B = OpFromGraph(aesara_items, [B], on_unused_input='ignore', name='F_B')\n",
    "F_C = OpFromGraph(aesara_items, [C], on_unused_input='ignore', name='F_C')\n",
    "F_D = OpFromGraph(aesara_items, [D], on_unused_input='ignore', name='F_D')"
   ]
  },
  {
   "cell_type": "code",
   "execution_count": 8,
   "id": "254391c1",
   "metadata": {},
   "outputs": [],
   "source": [
    "def cycle_step(A, B, B_hat, C, tol):\n",
    "    n, _ = A.shape\n",
    "    idx_0 = at.arange(n)\n",
    "    idx_1 = idx_0 + n\n",
    "    \n",
    "    AC_tall = at.concatenate([A, C], axis=0)\n",
    "    AC_wide = at.concatenate([A, C], axis=1)\n",
    "    \n",
    "    temp = AC_tall.dot(at.linalg.solve(B, AC_wide))\n",
    "    new_B = B - temp[idx_0, :][:, idx_1] - temp[idx_1, :][:, idx_0]\n",
    "    new_A = -temp[idx_0, :][:, idx_0]\n",
    "    new_C = -temp[idx_1, :][:, idx_1]\n",
    "    new_B_hat = B_hat - temp[idx_1, :][:, idx_0]\n",
    "    \n",
    "    A_norm = at.linalg.norm(new_A, ord=1)\n",
    "    C_norm = at.linalg.norm(new_C, ord=1)\n",
    "    \n",
    "    return (new_A, new_B, new_B_hat, new_C), scan_until((A_norm < tol) & (C_norm < tol))\n",
    "\n",
    "cycle_tol = at.dscalar(name='cycle_tol')\n",
    "cycle_max_iter = at.iscalar(name='cycle_max_iter')\n",
    "\n",
    "A0 = F_A(*aesara_params, *[root[i] for i in range(n_variables)])\n",
    "B0 = F_B(*aesara_params, *[root[i] for i in range(n_variables)])\n",
    "C0 = F_C(*aesara_params, *[root[i] for i in range(n_variables)])\n",
    "D0 = F_D(*aesara_params, *[root[i] for i in range(n_variables)])\n",
    "\n",
    "cycle_result, cycle_updates = aesara.scan(cycle_step,\n",
    "                                         outputs_info=[A0, B0, B0, C0],\n",
    "                                         non_sequences=[cycle_tol],\n",
    "                                         n_steps=cycle_max_iter)\n",
    "\n",
    "_, _, B_hat_final, _ = cycle_result\n",
    "B_hat_solved = B_hat_final[-1]\n",
    "\n",
    "T = -at.linalg.solve(B_hat_solved, A0)\n",
    "resids = at.sqr(A0 + B0.dot(T) + C0.dot(T).dot(T)).sum()\n",
    "R = -at.linalg.inv(C0.dot(T) + B0).dot(D0)"
   ]
  },
  {
   "cell_type": "markdown",
   "id": "39b451e1",
   "metadata": {},
   "source": [
    "### Sanity Check: Impulse Response Functions from T, R"
   ]
  },
  {
   "cell_type": "code",
   "execution_count": 9,
   "id": "a42dc141",
   "metadata": {},
   "outputs": [],
   "source": [
    "ss_optim_kwargs = {'step_size':1.0, 'ss_tol':1e-12, 'ss_max_iter':100}\n",
    "cycle_kwargs = {'cycle_tol':1e-12, 'cycle_max_iter':1000}\n",
    "x0_dict = {x.name: 0.8 for x in ss_vars}"
   ]
  },
  {
   "cell_type": "code",
   "execution_count": 10,
   "id": "9bdf2c5e",
   "metadata": {},
   "outputs": [
    {
     "name": "stderr",
     "output_type": "stream",
     "text": [
      "WARNING (aesara.tensor.blas): We did not find a dynamic library in the library_dir of the library we use for blas. If you use ATLAS, make sure to compile it with dynamics library.\n"
     ]
    }
   ],
   "source": [
    "all_aesara_inputs = aesara_items + [ss_max_iter, ss_tol, step_size, cycle_max_iter, cycle_tol]\n",
    "F_TR = aesara.function(all_aesara_inputs, [T, R], on_unused_input='ignore', name='first_order_solution')\n",
    "\n",
    "T_np, R_np = F_TR(**param_dict, **x0_dict, **ss_optim_kwargs, **cycle_kwargs)\n",
    "\n",
    "timesteps = 100\n",
    "shocks = np.zeros((timesteps, 1))\n",
    "shocks[10] = 1.0\n",
    "simulation = np.zeros((timesteps, n_variables))\n",
    "for t in range(1, timesteps):\n",
    "    simulation[t, :] = T_np @ simulation[t-1, :] + R_np @ shocks[t]"
   ]
  },
  {
   "cell_type": "code",
   "execution_count": 11,
   "id": "bad4f0ee",
   "metadata": {},
   "outputs": [
    {
     "data": {
      "image/png": "[encoded data removed]",
      "text/plain": [
       "<Figure size 1400x400 with 1 Axes>"
      ]
     },
     "metadata": {},
     "output_type": "display_data"
    }
   ],
   "source": [
    "fig, ax = plt.subplots(figsize=(14,4), dpi=100)\n",
    "plt.plot(simulation[:, 0], label='Technology Shock')\n",
    "plt.plot(simulation[:, 8], label='GDP')\n",
    "fig.set_facecolor('w')\n",
    "ax.legend()\n",
    "plt.show()"
   ]
  },
  {
   "cell_type": "code",
   "execution_count": 12,
   "id": "b62d352e",
   "metadata": {},
   "outputs": [
    {
     "data": {
      "text/plain": [
       "True"
      ]
     },
     "execution_count": 12,
     "metadata": {},
     "output_type": "execute_result"
    }
   ],
   "source": [
    "# The shock process should be A[t+1] = rho_A * A[t] + epsilon[t], we can check it is coming out correctly.\n",
    "np.allclose(simulation[10:, 0], 0.95 ** np.arange(90))"
   ]
  },
  {
   "cell_type": "markdown",
   "id": "37cbf9f4",
   "metadata": {},
   "source": [
    "### Confirm we have end-to-end gradients of the system w.r.t. deep parameters"
   ]
  },
  {
   "cell_type": "code",
   "execution_count": 13,
   "id": "24477254",
   "metadata": {},
   "outputs": [
    {
     "data": {
      "text/plain": [
       "[Elemwise{add,no_inplace}.0,\n",
       " Elemwise{add,no_inplace}.0,\n",
       " Elemwise{add,no_inplace}.0,\n",
       " Elemwise{add,no_inplace}.0,\n",
       " Elemwise{add,no_inplace}.0,\n",
       " Elemwise{add,no_inplace}.0]"
      ]
     },
     "execution_count": 13,
     "metadata": {},
     "output_type": "execute_result"
    }
   ],
   "source": [
    "at.grad(resids, aesara_params)"
   ]
  },
  {
   "cell_type": "markdown",
   "id": "a36106db",
   "metadata": {},
   "source": [
    "## Kalman Filter"
   ]
  },
  {
   "cell_type": "code",
   "execution_count": 14,
   "id": "bb118a15",
   "metadata": {},
   "outputs": [],
   "source": [
    "def kalman_step(y, a, P, ll, Q, H, T, R, Z):\n",
    "    v = y - Z.dot(a)\n",
    "    F = Z.dot(P).dot(Z.T) + H\n",
    "    F_inv = at.linalg.solve(F, at.eye(F.shape[0]))\n",
    "\n",
    "    a_update = a + P.dot(Z.T).dot(F_inv).dot(v)\n",
    "    P_update = P - P.dot(Z.T).dot(F_inv).dot(Z).dot(P)\n",
    "\n",
    "    a_hat = T.dot(a_update)\n",
    "    P_hat = T.dot(P_update).dot(T.T) + R.dot(Q).dot(R.T)\n",
    "\n",
    "    ll = ((at.log(at.linalg.det(F)) + (v.T)).dot(F_inv).dot(v))\n",
    "\n",
    "    return a_hat, P_hat, ll[0]\n",
    "\n",
    "data = at.dmatrix('data')\n",
    "a0  = at.dmatrix('a0')\n",
    "P0 = at.dmatrix('P0')\n",
    "\n",
    "# sigma_epsilon_A = at.dscalar('sigma_epsilon_A')\n",
    "\n",
    "ae_Z = at.dmatrix('Z')\n",
    "H = at.dmatrix('H')\n",
    "Q = at.dmatrix('Q')\n",
    "\n",
    "kalman_results, updates = aesara.scan(kalman_step,\n",
    "                               sequences=[data],\n",
    "                               outputs_info=[a0, P0, at.zeros((ae_Z.shape[0],))],\n",
    "                               non_sequences=[Q, H, T, R, ae_Z])\n",
    "\n",
    "states, covariances, log_likelihoods = kalman_results\n",
    "log_likelihood = -data.shape[0] * data.shape[1] / 2 * at.log(2 * np.pi) - 0.5 * log_likelihoods.sum()"
   ]
  },
  {
   "cell_type": "markdown",
   "id": "cba4e64a",
   "metadata": {},
   "source": [
    "### Compute log likelihood of the data"
   ]
  },
  {
   "cell_type": "code",
   "execution_count": 15,
   "id": "cee4d6c8",
   "metadata": {},
   "outputs": [
    {
     "name": "stderr",
     "output_type": "stream",
     "text": [
      "WARNING (aesara.tensor.blas): We did not find a dynamic library in the library_dir of the library we use for blas. If you use ATLAS, make sure to compile it with dynamics library.\n"
     ]
    }
   ],
   "source": [
    "f_ll = aesara.function(all_aesara_inputs + [data, a0, P0, ae_Z, H, Q], [log_likelihood])"
   ]
  },
  {
   "cell_type": "code",
   "execution_count": 16,
   "id": "ab025c3f",
   "metadata": {},
   "outputs": [
    {
     "data": {
      "text/plain": [
       "[array(-164.03745044)]"
      ]
     },
     "execution_count": 16,
     "metadata": {},
     "output_type": "execute_result"
    }
   ],
   "source": [
    "f_ll(**param_dict, **x0_dict, **ss_optim_kwargs, **cycle_kwargs,\n",
    "    data=fake_observed.values,\n",
    "    a0=np.zeros((13,1)), \n",
    "     P0=model.compute_stationary_covariance_matrix().values,\n",
    "     Z=Z, \n",
    "     H=np.zeros((1,1)), \n",
    "     Q=np.eye(1) * 0.1)"
   ]
  },
  {
   "cell_type": "markdown",
   "id": "089fa7c7",
   "metadata": {},
   "source": [
    "### Check gradients of the log likelihood w.r.t. deep parameters\n",
    "\n",
    "Can't get gradients of the deep parameters; only of the \"shallow\" ones. What is not implemented?"
   ]
  },
  {
   "cell_type": "code",
   "execution_count": 17,
   "id": "59d31a6f",
   "metadata": {},
   "outputs": [
    {
     "ename": "NotImplementedError",
     "evalue": "",
     "output_type": "error",
     "traceback": [
      "\u001b[1;31m---------------------------------------------------------------------------\u001b[0m",
      "\u001b[1;31mNotImplementedError\u001b[0m                       Traceback (most recent call last)",
      "Input \u001b[1;32mIn [17]\u001b[0m, in \u001b[0;36m<cell line: 1>\u001b[1;34m()\u001b[0m\n\u001b[1;32m----> 1\u001b[0m \u001b[43mat\u001b[49m\u001b[38;5;241;43m.\u001b[39;49m\u001b[43mgrad\u001b[49m\u001b[43m(\u001b[49m\u001b[43mlog_likelihood\u001b[49m\u001b[43m,\u001b[49m\u001b[43m \u001b[49m\u001b[43maesara_params\u001b[49m\u001b[43m)\u001b[49m\n",
      "File \u001b[1;32m~\\miniconda3\\envs\\pymc_dev\\lib\\site-packages\\aesara\\gradient.py:630\u001b[0m, in \u001b[0;36mgrad\u001b[1;34m(cost, wrt, consider_constant, disconnected_inputs, add_names, known_grads, return_disconnected, null_gradients)\u001b[0m\n\u001b[0;32m    627\u001b[0m     \u001b[38;5;28;01mif\u001b[39;00m \u001b[38;5;28mhasattr\u001b[39m(g\u001b[38;5;241m.\u001b[39mtype, \u001b[38;5;124m\"\u001b[39m\u001b[38;5;124mdtype\u001b[39m\u001b[38;5;124m\"\u001b[39m):\n\u001b[0;32m    628\u001b[0m         \u001b[38;5;28;01massert\u001b[39;00m g\u001b[38;5;241m.\u001b[39mtype\u001b[38;5;241m.\u001b[39mdtype \u001b[38;5;129;01min\u001b[39;00m aesara\u001b[38;5;241m.\u001b[39mtensor\u001b[38;5;241m.\u001b[39mtype\u001b[38;5;241m.\u001b[39mfloat_dtypes\n\u001b[1;32m--> 630\u001b[0m rval \u001b[38;5;241m=\u001b[39m \u001b[43m_populate_grad_dict\u001b[49m\u001b[43m(\u001b[49m\u001b[43mvar_to_app_to_idx\u001b[49m\u001b[43m,\u001b[49m\u001b[43m \u001b[49m\u001b[43mgrad_dict\u001b[49m\u001b[43m,\u001b[49m\u001b[43m \u001b[49m\u001b[43mwrt\u001b[49m\u001b[43m,\u001b[49m\u001b[43m \u001b[49m\u001b[43mcost_name\u001b[49m\u001b[43m)\u001b[49m\n\u001b[0;32m    632\u001b[0m \u001b[38;5;28;01mfor\u001b[39;00m i \u001b[38;5;129;01min\u001b[39;00m \u001b[38;5;28mrange\u001b[39m(\u001b[38;5;28mlen\u001b[39m(rval)):\n\u001b[0;32m    633\u001b[0m     \u001b[38;5;28;01mif\u001b[39;00m \u001b[38;5;28misinstance\u001b[39m(rval[i]\u001b[38;5;241m.\u001b[39mtype, NullType):\n",
      "File \u001b[1;32m~\\miniconda3\\envs\\pymc_dev\\lib\\site-packages\\aesara\\gradient.py:1434\u001b[0m, in \u001b[0;36m_populate_grad_dict\u001b[1;34m(var_to_app_to_idx, grad_dict, wrt, cost_name)\u001b[0m\n\u001b[0;32m   1431\u001b[0m     \u001b[38;5;66;03m# end if cache miss\u001b[39;00m\n\u001b[0;32m   1432\u001b[0m     \u001b[38;5;28;01mreturn\u001b[39;00m grad_dict[var]\n\u001b[1;32m-> 1434\u001b[0m rval \u001b[38;5;241m=\u001b[39m [access_grad_cache(elem) \u001b[38;5;28;01mfor\u001b[39;00m elem \u001b[38;5;129;01min\u001b[39;00m wrt]\n\u001b[0;32m   1436\u001b[0m \u001b[38;5;28;01mreturn\u001b[39;00m rval\n",
      "File \u001b[1;32m~\\miniconda3\\envs\\pymc_dev\\lib\\site-packages\\aesara\\gradient.py:1434\u001b[0m, in \u001b[0;36m<listcomp>\u001b[1;34m(.0)\u001b[0m\n\u001b[0;32m   1431\u001b[0m     \u001b[38;5;66;03m# end if cache miss\u001b[39;00m\n\u001b[0;32m   1432\u001b[0m     \u001b[38;5;28;01mreturn\u001b[39;00m grad_dict[var]\n\u001b[1;32m-> 1434\u001b[0m rval \u001b[38;5;241m=\u001b[39m [\u001b[43maccess_grad_cache\u001b[49m\u001b[43m(\u001b[49m\u001b[43melem\u001b[49m\u001b[43m)\u001b[49m \u001b[38;5;28;01mfor\u001b[39;00m elem \u001b[38;5;129;01min\u001b[39;00m wrt]\n\u001b[0;32m   1436\u001b[0m \u001b[38;5;28;01mreturn\u001b[39;00m rval\n",
      "File \u001b[1;32m~\\miniconda3\\envs\\pymc_dev\\lib\\site-packages\\aesara\\gradient.py:1387\u001b[0m, in \u001b[0;36m_populate_grad_dict.<locals>.access_grad_cache\u001b[1;34m(var)\u001b[0m\n\u001b[0;32m   1384\u001b[0m \u001b[38;5;28;01mfor\u001b[39;00m node \u001b[38;5;129;01min\u001b[39;00m node_to_idx:\n\u001b[0;32m   1385\u001b[0m     \u001b[38;5;28;01mfor\u001b[39;00m idx \u001b[38;5;129;01min\u001b[39;00m node_to_idx[node]:\n\u001b[1;32m-> 1387\u001b[0m         term \u001b[38;5;241m=\u001b[39m \u001b[43maccess_term_cache\u001b[49m\u001b[43m(\u001b[49m\u001b[43mnode\u001b[49m\u001b[43m)\u001b[49m[idx]\n\u001b[0;32m   1389\u001b[0m         \u001b[38;5;28;01mif\u001b[39;00m \u001b[38;5;129;01mnot\u001b[39;00m \u001b[38;5;28misinstance\u001b[39m(term, Variable):\n\u001b[0;32m   1390\u001b[0m             \u001b[38;5;28;01mraise\u001b[39;00m \u001b[38;5;167;01mTypeError\u001b[39;00m(\n\u001b[0;32m   1391\u001b[0m                 \u001b[38;5;124mf\u001b[39m\u001b[38;5;124m\"\u001b[39m\u001b[38;5;132;01m{\u001b[39;00mnode\u001b[38;5;241m.\u001b[39mop\u001b[38;5;132;01m}\u001b[39;00m\u001b[38;5;124m.grad returned \u001b[39m\u001b[38;5;132;01m{\u001b[39;00m\u001b[38;5;28mtype\u001b[39m(term)\u001b[38;5;132;01m}\u001b[39;00m\u001b[38;5;124m, expected\u001b[39m\u001b[38;5;124m\"\u001b[39m\n\u001b[0;32m   1392\u001b[0m                 \u001b[38;5;124m\"\u001b[39m\u001b[38;5;124m Variable instance.\u001b[39m\u001b[38;5;124m\"\u001b[39m\n\u001b[0;32m   1393\u001b[0m             )\n",
      "File \u001b[1;32m~\\miniconda3\\envs\\pymc_dev\\lib\\site-packages\\aesara\\gradient.py:1059\u001b[0m, in \u001b[0;36m_populate_grad_dict.<locals>.access_term_cache\u001b[1;34m(node)\u001b[0m\n\u001b[0;32m   1055\u001b[0m \u001b[38;5;28;01mif\u001b[39;00m node \u001b[38;5;129;01mnot\u001b[39;00m \u001b[38;5;129;01min\u001b[39;00m term_dict:\n\u001b[0;32m   1057\u001b[0m     inputs \u001b[38;5;241m=\u001b[39m node\u001b[38;5;241m.\u001b[39minputs\n\u001b[1;32m-> 1059\u001b[0m     output_grads \u001b[38;5;241m=\u001b[39m [access_grad_cache(var) \u001b[38;5;28;01mfor\u001b[39;00m var \u001b[38;5;129;01min\u001b[39;00m node\u001b[38;5;241m.\u001b[39moutputs]\n\u001b[0;32m   1061\u001b[0m     \u001b[38;5;66;03m# list of bools indicating if each output is connected to the cost\u001b[39;00m\n\u001b[0;32m   1062\u001b[0m     outputs_connected \u001b[38;5;241m=\u001b[39m [\n\u001b[0;32m   1063\u001b[0m         \u001b[38;5;129;01mnot\u001b[39;00m \u001b[38;5;28misinstance\u001b[39m(g\u001b[38;5;241m.\u001b[39mtype, DisconnectedType) \u001b[38;5;28;01mfor\u001b[39;00m g \u001b[38;5;129;01min\u001b[39;00m output_grads\n\u001b[0;32m   1064\u001b[0m     ]\n",
      "File \u001b[1;32m~\\miniconda3\\envs\\pymc_dev\\lib\\site-packages\\aesara\\gradient.py:1059\u001b[0m, in \u001b[0;36m<listcomp>\u001b[1;34m(.0)\u001b[0m\n\u001b[0;32m   1055\u001b[0m \u001b[38;5;28;01mif\u001b[39;00m node \u001b[38;5;129;01mnot\u001b[39;00m \u001b[38;5;129;01min\u001b[39;00m term_dict:\n\u001b[0;32m   1057\u001b[0m     inputs \u001b[38;5;241m=\u001b[39m node\u001b[38;5;241m.\u001b[39minputs\n\u001b[1;32m-> 1059\u001b[0m     output_grads \u001b[38;5;241m=\u001b[39m [\u001b[43maccess_grad_cache\u001b[49m\u001b[43m(\u001b[49m\u001b[43mvar\u001b[49m\u001b[43m)\u001b[49m \u001b[38;5;28;01mfor\u001b[39;00m var \u001b[38;5;129;01min\u001b[39;00m node\u001b[38;5;241m.\u001b[39moutputs]\n\u001b[0;32m   1061\u001b[0m     \u001b[38;5;66;03m# list of bools indicating if each output is connected to the cost\u001b[39;00m\n\u001b[0;32m   1062\u001b[0m     outputs_connected \u001b[38;5;241m=\u001b[39m [\n\u001b[0;32m   1063\u001b[0m         \u001b[38;5;129;01mnot\u001b[39;00m \u001b[38;5;28misinstance\u001b[39m(g\u001b[38;5;241m.\u001b[39mtype, DisconnectedType) \u001b[38;5;28;01mfor\u001b[39;00m g \u001b[38;5;129;01min\u001b[39;00m output_grads\n\u001b[0;32m   1064\u001b[0m     ]\n",
      "File \u001b[1;32m~\\miniconda3\\envs\\pymc_dev\\lib\\site-packages\\aesara\\gradient.py:1387\u001b[0m, in \u001b[0;36m_populate_grad_dict.<locals>.access_grad_cache\u001b[1;34m(var)\u001b[0m\n\u001b[0;32m   1384\u001b[0m \u001b[38;5;28;01mfor\u001b[39;00m node \u001b[38;5;129;01min\u001b[39;00m node_to_idx:\n\u001b[0;32m   1385\u001b[0m     \u001b[38;5;28;01mfor\u001b[39;00m idx \u001b[38;5;129;01min\u001b[39;00m node_to_idx[node]:\n\u001b[1;32m-> 1387\u001b[0m         term \u001b[38;5;241m=\u001b[39m \u001b[43maccess_term_cache\u001b[49m\u001b[43m(\u001b[49m\u001b[43mnode\u001b[49m\u001b[43m)\u001b[49m[idx]\n\u001b[0;32m   1389\u001b[0m         \u001b[38;5;28;01mif\u001b[39;00m \u001b[38;5;129;01mnot\u001b[39;00m \u001b[38;5;28misinstance\u001b[39m(term, Variable):\n\u001b[0;32m   1390\u001b[0m             \u001b[38;5;28;01mraise\u001b[39;00m \u001b[38;5;167;01mTypeError\u001b[39;00m(\n\u001b[0;32m   1391\u001b[0m                 \u001b[38;5;124mf\u001b[39m\u001b[38;5;124m\"\u001b[39m\u001b[38;5;132;01m{\u001b[39;00mnode\u001b[38;5;241m.\u001b[39mop\u001b[38;5;132;01m}\u001b[39;00m\u001b[38;5;124m.grad returned \u001b[39m\u001b[38;5;132;01m{\u001b[39;00m\u001b[38;5;28mtype\u001b[39m(term)\u001b[38;5;132;01m}\u001b[39;00m\u001b[38;5;124m, expected\u001b[39m\u001b[38;5;124m\"\u001b[39m\n\u001b[0;32m   1392\u001b[0m                 \u001b[38;5;124m\"\u001b[39m\u001b[38;5;124m Variable instance.\u001b[39m\u001b[38;5;124m\"\u001b[39m\n\u001b[0;32m   1393\u001b[0m             )\n",
      "File \u001b[1;32m~\\miniconda3\\envs\\pymc_dev\\lib\\site-packages\\aesara\\gradient.py:1059\u001b[0m, in \u001b[0;36m_populate_grad_dict.<locals>.access_term_cache\u001b[1;34m(node)\u001b[0m\n\u001b[0;32m   1055\u001b[0m \u001b[38;5;28;01mif\u001b[39;00m node \u001b[38;5;129;01mnot\u001b[39;00m \u001b[38;5;129;01min\u001b[39;00m term_dict:\n\u001b[0;32m   1057\u001b[0m     inputs \u001b[38;5;241m=\u001b[39m node\u001b[38;5;241m.\u001b[39minputs\n\u001b[1;32m-> 1059\u001b[0m     output_grads \u001b[38;5;241m=\u001b[39m [access_grad_cache(var) \u001b[38;5;28;01mfor\u001b[39;00m var \u001b[38;5;129;01min\u001b[39;00m node\u001b[38;5;241m.\u001b[39moutputs]\n\u001b[0;32m   1061\u001b[0m     \u001b[38;5;66;03m# list of bools indicating if each output is connected to the cost\u001b[39;00m\n\u001b[0;32m   1062\u001b[0m     outputs_connected \u001b[38;5;241m=\u001b[39m [\n\u001b[0;32m   1063\u001b[0m         \u001b[38;5;129;01mnot\u001b[39;00m \u001b[38;5;28misinstance\u001b[39m(g\u001b[38;5;241m.\u001b[39mtype, DisconnectedType) \u001b[38;5;28;01mfor\u001b[39;00m g \u001b[38;5;129;01min\u001b[39;00m output_grads\n\u001b[0;32m   1064\u001b[0m     ]\n",
      "File \u001b[1;32m~\\miniconda3\\envs\\pymc_dev\\lib\\site-packages\\aesara\\gradient.py:1059\u001b[0m, in \u001b[0;36m<listcomp>\u001b[1;34m(.0)\u001b[0m\n\u001b[0;32m   1055\u001b[0m \u001b[38;5;28;01mif\u001b[39;00m node \u001b[38;5;129;01mnot\u001b[39;00m \u001b[38;5;129;01min\u001b[39;00m term_dict:\n\u001b[0;32m   1057\u001b[0m     inputs \u001b[38;5;241m=\u001b[39m node\u001b[38;5;241m.\u001b[39minputs\n\u001b[1;32m-> 1059\u001b[0m     output_grads \u001b[38;5;241m=\u001b[39m [\u001b[43maccess_grad_cache\u001b[49m\u001b[43m(\u001b[49m\u001b[43mvar\u001b[49m\u001b[43m)\u001b[49m \u001b[38;5;28;01mfor\u001b[39;00m var \u001b[38;5;129;01min\u001b[39;00m node\u001b[38;5;241m.\u001b[39moutputs]\n\u001b[0;32m   1061\u001b[0m     \u001b[38;5;66;03m# list of bools indicating if each output is connected to the cost\u001b[39;00m\n\u001b[0;32m   1062\u001b[0m     outputs_connected \u001b[38;5;241m=\u001b[39m [\n\u001b[0;32m   1063\u001b[0m         \u001b[38;5;129;01mnot\u001b[39;00m \u001b[38;5;28misinstance\u001b[39m(g\u001b[38;5;241m.\u001b[39mtype, DisconnectedType) \u001b[38;5;28;01mfor\u001b[39;00m g \u001b[38;5;129;01min\u001b[39;00m output_grads\n\u001b[0;32m   1064\u001b[0m     ]\n",
      "    \u001b[1;31m[... skipping similar frames: _populate_grad_dict.<locals>.access_grad_cache at line 1387 (9 times), <listcomp> at line 1059 (8 times), _populate_grad_dict.<locals>.access_term_cache at line 1059 (8 times)]\u001b[0m\n",
      "File \u001b[1;32m~\\miniconda3\\envs\\pymc_dev\\lib\\site-packages\\aesara\\gradient.py:1059\u001b[0m, in \u001b[0;36m_populate_grad_dict.<locals>.access_term_cache\u001b[1;34m(node)\u001b[0m\n\u001b[0;32m   1055\u001b[0m \u001b[38;5;28;01mif\u001b[39;00m node \u001b[38;5;129;01mnot\u001b[39;00m \u001b[38;5;129;01min\u001b[39;00m term_dict:\n\u001b[0;32m   1057\u001b[0m     inputs \u001b[38;5;241m=\u001b[39m node\u001b[38;5;241m.\u001b[39minputs\n\u001b[1;32m-> 1059\u001b[0m     output_grads \u001b[38;5;241m=\u001b[39m [access_grad_cache(var) \u001b[38;5;28;01mfor\u001b[39;00m var \u001b[38;5;129;01min\u001b[39;00m node\u001b[38;5;241m.\u001b[39moutputs]\n\u001b[0;32m   1061\u001b[0m     \u001b[38;5;66;03m# list of bools indicating if each output is connected to the cost\u001b[39;00m\n\u001b[0;32m   1062\u001b[0m     outputs_connected \u001b[38;5;241m=\u001b[39m [\n\u001b[0;32m   1063\u001b[0m         \u001b[38;5;129;01mnot\u001b[39;00m \u001b[38;5;28misinstance\u001b[39m(g\u001b[38;5;241m.\u001b[39mtype, DisconnectedType) \u001b[38;5;28;01mfor\u001b[39;00m g \u001b[38;5;129;01min\u001b[39;00m output_grads\n\u001b[0;32m   1064\u001b[0m     ]\n",
      "File \u001b[1;32m~\\miniconda3\\envs\\pymc_dev\\lib\\site-packages\\aesara\\gradient.py:1059\u001b[0m, in \u001b[0;36m<listcomp>\u001b[1;34m(.0)\u001b[0m\n\u001b[0;32m   1055\u001b[0m \u001b[38;5;28;01mif\u001b[39;00m node \u001b[38;5;129;01mnot\u001b[39;00m \u001b[38;5;129;01min\u001b[39;00m term_dict:\n\u001b[0;32m   1057\u001b[0m     inputs \u001b[38;5;241m=\u001b[39m node\u001b[38;5;241m.\u001b[39minputs\n\u001b[1;32m-> 1059\u001b[0m     output_grads \u001b[38;5;241m=\u001b[39m [\u001b[43maccess_grad_cache\u001b[49m\u001b[43m(\u001b[49m\u001b[43mvar\u001b[49m\u001b[43m)\u001b[49m \u001b[38;5;28;01mfor\u001b[39;00m var \u001b[38;5;129;01min\u001b[39;00m node\u001b[38;5;241m.\u001b[39moutputs]\n\u001b[0;32m   1061\u001b[0m     \u001b[38;5;66;03m# list of bools indicating if each output is connected to the cost\u001b[39;00m\n\u001b[0;32m   1062\u001b[0m     outputs_connected \u001b[38;5;241m=\u001b[39m [\n\u001b[0;32m   1063\u001b[0m         \u001b[38;5;129;01mnot\u001b[39;00m \u001b[38;5;28misinstance\u001b[39m(g\u001b[38;5;241m.\u001b[39mtype, DisconnectedType) \u001b[38;5;28;01mfor\u001b[39;00m g \u001b[38;5;129;01min\u001b[39;00m output_grads\n\u001b[0;32m   1064\u001b[0m     ]\n",
      "File \u001b[1;32m~\\miniconda3\\envs\\pymc_dev\\lib\\site-packages\\aesara\\gradient.py:1387\u001b[0m, in \u001b[0;36m_populate_grad_dict.<locals>.access_grad_cache\u001b[1;34m(var)\u001b[0m\n\u001b[0;32m   1384\u001b[0m \u001b[38;5;28;01mfor\u001b[39;00m node \u001b[38;5;129;01min\u001b[39;00m node_to_idx:\n\u001b[0;32m   1385\u001b[0m     \u001b[38;5;28;01mfor\u001b[39;00m idx \u001b[38;5;129;01min\u001b[39;00m node_to_idx[node]:\n\u001b[1;32m-> 1387\u001b[0m         term \u001b[38;5;241m=\u001b[39m \u001b[43maccess_term_cache\u001b[49m\u001b[43m(\u001b[49m\u001b[43mnode\u001b[49m\u001b[43m)\u001b[49m[idx]\n\u001b[0;32m   1389\u001b[0m         \u001b[38;5;28;01mif\u001b[39;00m \u001b[38;5;129;01mnot\u001b[39;00m \u001b[38;5;28misinstance\u001b[39m(term, Variable):\n\u001b[0;32m   1390\u001b[0m             \u001b[38;5;28;01mraise\u001b[39;00m \u001b[38;5;167;01mTypeError\u001b[39;00m(\n\u001b[0;32m   1391\u001b[0m                 \u001b[38;5;124mf\u001b[39m\u001b[38;5;124m\"\u001b[39m\u001b[38;5;132;01m{\u001b[39;00mnode\u001b[38;5;241m.\u001b[39mop\u001b[38;5;132;01m}\u001b[39;00m\u001b[38;5;124m.grad returned \u001b[39m\u001b[38;5;132;01m{\u001b[39;00m\u001b[38;5;28mtype\u001b[39m(term)\u001b[38;5;132;01m}\u001b[39;00m\u001b[38;5;124m, expected\u001b[39m\u001b[38;5;124m\"\u001b[39m\n\u001b[0;32m   1392\u001b[0m                 \u001b[38;5;124m\"\u001b[39m\u001b[38;5;124m Variable instance.\u001b[39m\u001b[38;5;124m\"\u001b[39m\n\u001b[0;32m   1393\u001b[0m             )\n",
      "File \u001b[1;32m~\\miniconda3\\envs\\pymc_dev\\lib\\site-packages\\aesara\\gradient.py:1214\u001b[0m, in \u001b[0;36m_populate_grad_dict.<locals>.access_term_cache\u001b[1;34m(node)\u001b[0m\n\u001b[0;32m   1206\u001b[0m         \u001b[38;5;28;01mif\u001b[39;00m o_shape \u001b[38;5;241m!=\u001b[39m g_shape:\n\u001b[0;32m   1207\u001b[0m             \u001b[38;5;28;01mraise\u001b[39;00m \u001b[38;5;167;01mValueError\u001b[39;00m(\n\u001b[0;32m   1208\u001b[0m                 \u001b[38;5;124m\"\u001b[39m\u001b[38;5;124mGot a gradient of shape \u001b[39m\u001b[38;5;124m\"\u001b[39m\n\u001b[0;32m   1209\u001b[0m                 \u001b[38;5;241m+\u001b[39m \u001b[38;5;28mstr\u001b[39m(o_shape)\n\u001b[0;32m   1210\u001b[0m                 \u001b[38;5;241m+\u001b[39m \u001b[38;5;124m\"\u001b[39m\u001b[38;5;124m on an output of shape \u001b[39m\u001b[38;5;124m\"\u001b[39m\n\u001b[0;32m   1211\u001b[0m                 \u001b[38;5;241m+\u001b[39m \u001b[38;5;28mstr\u001b[39m(g_shape)\n\u001b[0;32m   1212\u001b[0m             )\n\u001b[1;32m-> 1214\u001b[0m input_grads \u001b[38;5;241m=\u001b[39m \u001b[43mnode\u001b[49m\u001b[38;5;241;43m.\u001b[39;49m\u001b[43mop\u001b[49m\u001b[38;5;241;43m.\u001b[39;49m\u001b[43mL_op\u001b[49m\u001b[43m(\u001b[49m\u001b[43minputs\u001b[49m\u001b[43m,\u001b[49m\u001b[43m \u001b[49m\u001b[43mnode\u001b[49m\u001b[38;5;241;43m.\u001b[39;49m\u001b[43moutputs\u001b[49m\u001b[43m,\u001b[49m\u001b[43m \u001b[49m\u001b[43mnew_output_grads\u001b[49m\u001b[43m)\u001b[49m\n\u001b[0;32m   1216\u001b[0m \u001b[38;5;28;01mif\u001b[39;00m input_grads \u001b[38;5;129;01mis\u001b[39;00m \u001b[38;5;28;01mNone\u001b[39;00m:\n\u001b[0;32m   1217\u001b[0m     \u001b[38;5;28;01mraise\u001b[39;00m \u001b[38;5;167;01mTypeError\u001b[39;00m(\n\u001b[0;32m   1218\u001b[0m         \u001b[38;5;124mf\u001b[39m\u001b[38;5;124m\"\u001b[39m\u001b[38;5;132;01m{\u001b[39;00mnode\u001b[38;5;241m.\u001b[39mop\u001b[38;5;132;01m}\u001b[39;00m\u001b[38;5;124m.grad returned NoneType, expected iterable.\u001b[39m\u001b[38;5;124m\"\u001b[39m\n\u001b[0;32m   1219\u001b[0m     )\n",
      "File \u001b[1;32m~\\miniconda3\\envs\\pymc_dev\\lib\\site-packages\\aesara\\graph\\op.py:369\u001b[0m, in \u001b[0;36mOp.L_op\u001b[1;34m(self, inputs, outputs, output_grads)\u001b[0m\n\u001b[0;32m    345\u001b[0m \u001b[38;5;28;01mdef\u001b[39;00m \u001b[38;5;21mL_op\u001b[39m(\n\u001b[0;32m    346\u001b[0m     \u001b[38;5;28mself\u001b[39m,\n\u001b[0;32m    347\u001b[0m     inputs: List[Variable],\n\u001b[0;32m    348\u001b[0m     outputs: List[Variable],\n\u001b[0;32m    349\u001b[0m     output_grads: List[Variable],\n\u001b[0;32m    350\u001b[0m ) \u001b[38;5;241m-\u001b[39m\u001b[38;5;241m>\u001b[39m List[Variable]:\n\u001b[0;32m    351\u001b[0m     \u001b[38;5;124mr\u001b[39m\u001b[38;5;124;03m\"\"\"Construct a graph for the L-operator.\u001b[39;00m\n\u001b[0;32m    352\u001b[0m \n\u001b[0;32m    353\u001b[0m \u001b[38;5;124;03m    This method is primarily used by `Lop` and dispatches to\u001b[39;00m\n\u001b[1;32m   (...)\u001b[0m\n\u001b[0;32m    367\u001b[0m \n\u001b[0;32m    368\u001b[0m \u001b[38;5;124;03m    \"\"\"\u001b[39;00m\n\u001b[1;32m--> 369\u001b[0m     \u001b[38;5;28;01mreturn\u001b[39;00m \u001b[38;5;28;43mself\u001b[39;49m\u001b[38;5;241;43m.\u001b[39;49m\u001b[43mgrad\u001b[49m\u001b[43m(\u001b[49m\u001b[43minputs\u001b[49m\u001b[43m,\u001b[49m\u001b[43m \u001b[49m\u001b[43moutput_grads\u001b[49m\u001b[43m)\u001b[49m\n",
      "File \u001b[1;32m~\\miniconda3\\envs\\pymc_dev\\lib\\site-packages\\aesara\\graph\\op.py:343\u001b[0m, in \u001b[0;36mOp.grad\u001b[1;34m(self, inputs, output_grads)\u001b[0m\n\u001b[0;32m    319\u001b[0m \u001b[38;5;28;01mdef\u001b[39;00m \u001b[38;5;21mgrad\u001b[39m(\n\u001b[0;32m    320\u001b[0m     \u001b[38;5;28mself\u001b[39m, inputs: List[Variable], output_grads: List[Variable]\n\u001b[0;32m    321\u001b[0m ) \u001b[38;5;241m-\u001b[39m\u001b[38;5;241m>\u001b[39m List[Variable]:\n\u001b[0;32m    322\u001b[0m     \u001b[38;5;124;03m\"\"\"Construct a graph for the gradient with respect to each input variable.\u001b[39;00m\n\u001b[0;32m    323\u001b[0m \n\u001b[0;32m    324\u001b[0m \u001b[38;5;124;03m    Each returned `Variable` represents the gradient with respect to that\u001b[39;00m\n\u001b[1;32m   (...)\u001b[0m\n\u001b[0;32m    341\u001b[0m \n\u001b[0;32m    342\u001b[0m \u001b[38;5;124;03m    \"\"\"\u001b[39;00m\n\u001b[1;32m--> 343\u001b[0m     \u001b[38;5;28;01mraise\u001b[39;00m \u001b[38;5;167;01mNotImplementedError\u001b[39;00m()\n",
      "\u001b[1;31mNotImplementedError\u001b[0m: "
     ]
    }
   ],
   "source": [
    "at.grad(log_likelihood, aesara_params)"
   ]
  },
  {
   "cell_type": "code",
   "execution_count": 18,
   "id": "dcc4d269",
   "metadata": {},
   "outputs": [
    {
     "data": {
      "text/plain": [
       "InplaceDimShuffle{1,2}.0"
      ]
     },
     "execution_count": 18,
     "metadata": {},
     "output_type": "execute_result"
    }
   ],
   "source": [
    "at.grad(log_likelihood, a0)"
   ]
  }
 ],
 "metadata": {
  "kernelspec": {
   "display_name": "Python 3 (ipykernel)",
   "language": "python",
   "name": "python3"
  },
  "language_info": {
   "codemirror_mode": {
    "name": "ipython",
    "version": 3
   },
   "file_extension": ".py",
   "mimetype": "text/x-python",
   "name": "python",
   "nbconvert_exporter": "python",
   "pygments_lexer": "ipython3",
   "version": "3.10.4"
  },
  "toc": {
   "base_numbering": 1,
   "nav_menu": {},
   "number_sections": true,
   "sideBar": true,
   "skip_h1_title": false,
   "title_cell": "Table of Contents",
   "title_sidebar": "Contents",
   "toc_cell": true,
   "toc_position": {},
   "toc_section_display": true,
   "toc_window_display": false
  }
 },
 "nbformat": 4,
 "nbformat_minor": 5
}
