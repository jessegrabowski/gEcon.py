{
 "cells": [
  {
   "cell_type": "code",
   "execution_count": 1,
   "id": "2ad5c475",
   "metadata": {},
   "outputs": [],
   "source": [
    "import sympy as sp\n",
    "from gEcon import *\n",
    "from scipy import optimize\n",
    "from model_utilities import *\n",
    "from TimeAwareSympy import *"
   ]
  },
  {
   "cell_type": "code",
   "execution_count": 2,
   "id": "5c9fc96e",
   "metadata": {},
   "outputs": [],
   "source": [
    "model_file = 'GCN Files/Test_Model.gcn'"
   ]
  },
  {
   "cell_type": "code",
   "execution_count": 37,
   "id": "9230cd36",
   "metadata": {},
   "outputs": [
    {
     "name": "stdout",
     "output_type": "stream",
     "text": [
      "n equations: 10\n",
      "n variables: 10\n"
     ]
    }
   ],
   "source": [
    "model, param_dict, shocks, var_list, try_reduce_vars = parse_gcn_file(model_file)\n",
    "subbed_model = substitute_all_params(model, param_dict)\n",
    "subbed_model = rewrite_model_equations_eq_0(subbed_model)\n",
    "model = rewrite_model_equations_eq_0(model)\n",
    "\n",
    "print(f'n equations: {len(subbed_model)}')\n",
    "print(f'''n variables: {len(set([x.base_name if isinstance(x, TimeAwareSymbol)\n",
    "                                else x.name for x in var_list]))}''')"
   ]
  },
  {
   "cell_type": "code",
   "execution_count": 38,
   "id": "be27fffb",
   "metadata": {},
   "outputs": [],
   "source": [
    "model_ss, var_list_ss = convert_model_to_steady_state(subbed_model, var_list)\n",
    "f_model, f_jac = convert_model_to_numpy_function(model_ss, var_list_ss)"
   ]
  },
  {
   "cell_type": "code",
   "execution_count": 39,
   "id": "6811424d",
   "metadata": {},
   "outputs": [
    {
     "name": "stdout",
     "output_type": "stream",
     "text": [
      "0       / 10000\r",
      "1       / 10000\r",
      "2       / 10000\r",
      "3       / 10000\r",
      "4       / 10000\r",
      "5       / 10000\r",
      "6       / 10000\r\n",
      "Done!\n"
     ]
    }
   ],
   "source": [
    "results, ss_value_dict = compute_ss(f_model, var_list_ss, f_jac=f_jac)"
   ]
  },
  {
   "cell_type": "code",
   "execution_count": 41,
   "id": "0fba1928",
   "metadata": {},
   "outputs": [
    {
     "data": {
      "text/latex": [
       "$\\displaystyle - \\beta U_{t+1} + U_{t} - \\frac{\\left(C_{t}^{\\theta} \\left(1 - L_{t}\\right)^{1 - \\theta}\\right)^{1 - \\tau}}{1 - \\tau}$"
      ],
      "text/plain": [
       "-beta*U_t+1 + U_t - (C_t**theta*(1 - L_t)**(1 - theta))**(1 - tau)/(1 - tau)"
      ]
     },
     "metadata": {},
     "output_type": "display_data"
    },
    {
     "data": {
      "text/latex": [
       "$\\displaystyle - A_{t} K_{t}^{\\alpha} L_{t}^{1 - \\alpha} + Y_{t}$"
      ],
      "text/plain": [
       "-A_t*K_t**alpha*L_t**(1 - alpha) + Y_t"
      ]
     },
     "metadata": {},
     "output_type": "display_data"
    },
    {
     "data": {
      "text/latex": [
       "$\\displaystyle C_{t} + I_{t} - Y_{t}$"
      ],
      "text/plain": [
       "C_t + I_t - Y_t"
      ]
     },
     "metadata": {},
     "output_type": "display_data"
    },
    {
     "data": {
      "text/latex": [
       "$\\displaystyle - I_{t} + K_{t} - K_{t-1} \\left(1 - \\delta\\right)$"
      ],
      "text/plain": [
       "-I_t + K_t - K_t-1*(1 - delta)"
      ]
     },
     "metadata": {},
     "output_type": "display_data"
    },
    {
     "data": {
      "text/latex": [
       "$\\displaystyle - \\rho \\log{\\left(A_{t-1} \\right)} - \\epsilon_{t} + \\log{\\left(A_{t} \\right)}$"
      ],
      "text/plain": [
       "-rho*log(A_t-1) - epsilon_t + log(A_t)"
      ]
     },
     "metadata": {},
     "output_type": "display_data"
    },
    {
     "data": {
      "text/latex": [
       "$\\displaystyle \\frac{\\theta \\left(C_{t}^{\\theta} \\left(1 - L_{t}\\right)^{1 - \\theta}\\right)^{1 - \\tau}}{C_{t}} - \\lambda^{H1}_{t}$"
      ],
      "text/plain": [
       "theta*(C_t**theta*(1 - L_t)**(1 - theta))**(1 - tau)/C_t - lambda__H1_t"
      ]
     },
     "metadata": {},
     "output_type": "display_data"
    },
    {
     "data": {
      "text/latex": [
       "$\\displaystyle A_{t} K_{t}^{\\alpha} L_{t}^{- \\alpha} \\lambda_{t} \\left(1 - \\alpha\\right) + \\frac{\\left(C_{t}^{\\theta} \\left(1 - L_{t}\\right)^{1 - \\theta}\\right)^{1 - \\tau} \\left(\\theta - 1\\right)}{1 - L_{t}}$"
      ],
      "text/plain": [
       "A_t*K_t**alpha*L_t**(-alpha)*lambda_t*(1 - alpha) + (C_t**theta*(1 - L_t)**(1 - theta))**(1 - tau)*(theta - 1)/(1 - L_t)"
      ]
     },
     "metadata": {},
     "output_type": "display_data"
    },
    {
     "data": {
      "text/latex": [
       "$\\displaystyle - \\lambda^{H1}_{t} + q_{t}$"
      ],
      "text/plain": [
       "-lambda__H1_t + q_t"
      ]
     },
     "metadata": {},
     "output_type": "display_data"
    },
    {
     "data": {
      "text/latex": [
       "$\\displaystyle \\alpha A_{t} K_{t}^{\\alpha - 1} L_{t}^{1 - \\alpha} \\lambda_{t} + \\beta q_{t+1} \\left(1 - \\delta\\right) - q_{t}$"
      ],
      "text/plain": [
       "alpha*A_t*K_t**(alpha - 1)*L_t**(1 - alpha)*lambda_t + beta*q_t+1*(1 - delta) - q_t"
      ]
     },
     "metadata": {},
     "output_type": "display_data"
    },
    {
     "data": {
      "text/latex": [
       "$\\displaystyle \\lambda^{H1}_{t} - \\lambda_{t}$"
      ],
      "text/plain": [
       "lambda__H1_t - lambda_t"
      ]
     },
     "metadata": {},
     "output_type": "display_data"
    }
   ],
   "source": [
    "for eq in model:\n",
    "    display(eq)"
   ]
  },
  {
   "cell_type": "code",
   "execution_count": 29,
   "id": "a0fb7b4a",
   "metadata": {},
   "outputs": [],
   "source": [
    "def make_loglin_sub_dict(var_list):\n",
    "    sub_dict = {}\n",
    "    for var in var_list:\n",
    "        ss_var = var.to_ss()\n",
    "        var_tile = var  \n",
    "        sub_dict[var] = ss_var * sp.exp(var / ss_var)\n",
    "        \n",
    "    return sub_dict"
   ]
  },
  {
   "cell_type": "code",
   "execution_count": 92,
   "id": "87000684",
   "metadata": {},
   "outputs": [],
   "source": [
    "import uuid"
   ]
  },
  {
   "cell_type": "code",
   "execution_count": 136,
   "id": "f248a39b",
   "metadata": {},
   "outputs": [],
   "source": [
    "def build_hash_table(model_things):\n",
    "    var_to_hash = {}\n",
    "    hash_to_var = {}\n",
    "    name_list = [x.name for x in model_things]\n",
    "    for thing in sorted(name_list, key=len, reverse=True):\n",
    "        hashkey = str(uuid.uuid4().int)\n",
    "        var_to_hash[thing] = hashkey\n",
    "        hash_to_var[hashkey] = thing\n",
    "        \n",
    "    return var_to_hash, hash_to_var"
   ]
  },
  {
   "cell_type": "code",
   "execution_count": 137,
   "id": "f21d85b7",
   "metadata": {},
   "outputs": [],
   "source": [
    "def sub_things_to_hash(eq_str, hash_dict):\n",
    "    for key, value in hash_dict.items():\n",
    "        eq_str = eq_str.replace(key, value)\n",
    "    return eq_str"
   ]
  },
  {
   "cell_type": "code",
   "execution_count": 138,
   "id": "a558f23b",
   "metadata": {},
   "outputs": [],
   "source": [
    "operators = list('+-/*^()=')"
   ]
  },
  {
   "cell_type": "code",
   "execution_count": 171,
   "id": "b5ec8cc6",
   "metadata": {},
   "outputs": [],
   "source": [
    "from sympy.abc import greeks, _clash, _clash1, _clash2"
   ]
  },
  {
   "cell_type": "code",
   "execution_count": 191,
   "id": "e174e28e",
   "metadata": {},
   "outputs": [],
   "source": [
    "def get_matlab_safe_unique_vars_from_list(var_list):\n",
    "    unique_vars = [var for var in set([x.base_name if isinstance(x, TimeAwareSymbol) else x.name\\\n",
    "                                        for x in var_list])]\n",
    "    unique_vars = [var if var.lower() not in greeks else 'a' + var for var in unique_vars]\n",
    "    \n",
    "    return unique_vars\n",
    "\n",
    "def convert_var_timings_to_matlab(var_list):\n",
    "    matlab_var_list = [var.replace('_t+1', '(1)').replace('_t-1', '(-1)').replace('_t', '')\\\n",
    "                      for var in var_list]\n",
    "    \n",
    "    return matlab_var_list"
   ]
  },
  {
   "cell_type": "code",
   "execution_count": 223,
   "id": "e78a2682",
   "metadata": {},
   "outputs": [],
   "source": [
    "def make_dynare_file(model, var_list, param_dict, shocks, ss_value_dict):\n",
    "    dynare_vars = get_matlab_safe_unique_vars_from_list(var_list)\n",
    "#     dynare_vars = convert_var_timings_to_matlab(unique_vars)\n",
    "    \n",
    "    file = ''\n",
    "    line = 'var'\n",
    "    for var in dynare_vars:\n",
    "        line += f' {var},'\n",
    "        if len(line) > 50:\n",
    "            line = line[:-1]\n",
    "            line += line + ';\\n'\n",
    "            file += line\n",
    "            line = 'var'\n",
    "    line = line[:-1]\n",
    "    file += line + ';\\n'\n",
    "    \n",
    "    unique_shocks = get_matlab_safe_unique_vars_from_list(shocks)\n",
    "#     dynare_shocks = convert_var_timings_to_matlab(shocks)\n",
    "    line = 'varexo'\n",
    "    for shock in unique_shocks:\n",
    "        line += f' {shock}'\n",
    "        if len(line) > 50:\n",
    "            line += line + ';\\n'\n",
    "            file += line\n",
    "            line = 'varexo'\n",
    "    file += line + ';\\n'\n",
    "    file += '\\n'\n",
    "    \n",
    "    dynare_param_names = get_matlab_safe_unique_vars_from_list(param_dict.keys())\n",
    "    file += 'parameters\\n'\n",
    "    for param, value in zip(dynare_param_names, param_dict.values()):\n",
    "        file += f'{param} = {value};\\n'\n",
    "        \n",
    "        \n",
    "    file +='\\n'\n",
    "    file +='model;\\n'\n",
    "    \n",
    "    for eq in model:\n",
    "        eq_str = str(eq)\n",
    "        prepare_eq = eq_str.replace('**', '^')\n",
    "        var_to_hash, hash_to_var = build_hash_table(model_things)\n",
    "\n",
    "        hash_eq = sub_things_to_hash(prepare_eq, var_to_hash)\n",
    "        for operator in operators:\n",
    "            hash_eq = hash_eq.replace(operator, ' ' + operator  + ' ')\n",
    "        hash_eq = re.sub(' +', ' ', hash_eq)\n",
    "        hash_eq = hash_eq.strip()\n",
    "        final_eq = sub_things_to_hash(hash_eq, hash_to_var)\n",
    "        matlab_eq = final_eq.replace('_t+1', '(1)').replace('_t-1', '(-1)').replace('_t', '')\n",
    "        split_eq = matlab_eq.split(' ')\n",
    "        new_eq = []\n",
    "        for atom in split_eq:\n",
    "            if atom.lower() in greeks:\n",
    "                atom = 'a' + atom\n",
    "            new_eq.append(atom)\n",
    "        matlab_eq = ''.join(atom for atom in new_eq) + ';'\n",
    "        file += matlab_eq + \"\\n\"\n",
    "    \n",
    "    file += 'end;\\n\\n'\n",
    "    \n",
    "    file += 'initval;\\n'\n",
    "    \n",
    "    for var, val in ss_value_dict.items():\n",
    "        matlab_var = get_matlab_safe_unique_vars_from_list([var])[0]\n",
    "        file += f'{matlab_var} = {val:0.4f};\\n'\n",
    "    \n",
    "    file += 'end;\\n\\n'\n",
    "    print(file)"
   ]
  },
  {
   "cell_type": "code",
   "execution_count": 224,
   "id": "587a744b",
   "metadata": {},
   "outputs": [
    {
     "name": "stdout",
     "output_type": "stream",
     "text": [
      "var A, U, lambda__H1, q, L, alambda, K, C, I, Y;\n",
      "varexo aepsilon;\n",
      "\n",
      "parameters\n",
      "arho = 0;\n",
      "aalpha = 0.4;\n",
      "adelta = 0.357;\n",
      "atheta = 0.99;\n",
      "abeta = 0.02;\n",
      "atau = 2.0;\n",
      "aepsilon = 0.95;\n",
      "\n",
      "model;\n",
      "-abeta*U(1)+U-(C^atheta*(1-L)^(1-atheta))^(1-atau)/(1-atau);\n",
      "-A*K^aalpha*L^(1-aalpha)+Y;\n",
      "C+I-Y;\n",
      "-I+K-K(-1)*(1-adelta);\n",
      "-arho*log(A(-1))-aepsilon+log(A);\n",
      "atheta*(C^atheta*(1-L)^(1-atheta))^(1-atau)/C-lambda__H1;\n",
      "A*K^aalpha*L^(-aalpha)*alambda*(1-aalpha)+(C^atheta*(1-L)^(1-atheta))^(1-atau)*(atheta-1)/(1-L);\n",
      "-lambda__H1+q;\n",
      "aalpha*A*K^(aalpha-1)*L^(1-aalpha)*alambda+abeta*q(1)*(1-adelta)-q;\n",
      "lambda__H1-alambda;\n",
      "end;\n",
      "\n",
      "initval;\n",
      "U = -116.1386;\n",
      "L = 0.3129;\n",
      "I = 0.4744;\n",
      "K = 23.7210;\n",
      "Y = 1.7672;\n",
      "C = 1.2928;\n",
      "alambda = 0.3207;\n",
      "lambda__H1 = 0.3207;\n",
      "q = 0.3207;\n",
      "A = 1.0000;\n",
      "end;\n",
      "\n",
      "\n"
     ]
    }
   ],
   "source": [
    "make_dynare_file(model, var_list, param_dict, shocks, ss_value_dict)"
   ]
  },
  {
   "cell_type": "code",
   "execution_count": 150,
   "id": "a9bf1e90",
   "metadata": {},
   "outputs": [
    {
     "name": "stdout",
     "output_type": "stream",
     "text": [
      "-abeta*U(1)+U-(C^atheta*(1-L)^(1-atheta))^(1-atau)/(1-atau);\n",
      "-A*K^aalpha*L^(1-aalpha)+Y;\n",
      "C+I-Y;\n",
      "-I+K-K(-1)*(1-adelta);\n",
      "-arho*log(A(-1))-aepsilon+log(A);\n",
      "atheta*(C^atheta*(1-L)^(1-atheta))^(1-atau)/C-lambda__H1;\n",
      "A*K^aalpha*L^(-aalpha)*alambda*(1-aalpha)+(C^atheta*(1-L)^(1-atheta))^(1-atau)*(atheta-1)/(1-L);\n",
      "-lambda__H1+q;\n",
      "aalpha*A*K^(aalpha-1)*L^(1-aalpha)*alambda+abeta*q(1)*(1-adelta)-q;\n",
      "lambda__H1-alambda;\n"
     ]
    }
   ],
   "source": [
    "for eq in model:\n",
    "    test_str = str(eq)\n",
    "    prepare_eq = test_str.replace('**', '^')\n",
    "    var_to_hash, hash_to_var = build_hash_table(model_things)\n",
    "\n",
    "    hash_eq = sub_things_to_hash(prepare_eq, var_to_hash)\n",
    "    for operator in operators:\n",
    "        hash_eq = hash_eq.replace(operator, ' ' + operator  + ' ')\n",
    "    hash_eq = re.sub(' +', ' ', hash_eq)\n",
    "    hash_eq = hash_eq.strip()\n",
    "    final_eq = sub_things_to_hash(hash_eq, hash_to_var)\n",
    "    matlab_eq = final_eq.replace('_t+1', '(1)').replace('_t-1', '(-1)').replace('_t', '')\n",
    "    split_eq = matlab_eq.split(' ')\n",
    "    new_eq = []\n",
    "    for atom in split_eq:\n",
    "        if atom.lower() in greeks:\n",
    "            atom = 'a' + atom\n",
    "        new_eq.append(atom)\n",
    "    matlab_eq = ''.join(atom for atom in new_eq) + ';'\n",
    "    print(matlab_eq)"
   ]
  },
  {
   "cell_type": "code",
   "execution_count": 140,
   "id": "2dc81bad",
   "metadata": {},
   "outputs": [
    {
     "data": {
      "text/plain": [
       "'- beta * U_t+1  +  U_t  -   ( C_t ^ theta *  ( 1  -  L_t )  ^  ( 1  -  theta )  )  ^  ( 1  -  tau )  /  ( 1  -  tau )'"
      ]
     },
     "execution_count": 140,
     "metadata": {},
     "output_type": "execute_result"
    }
   ],
   "source": [
    "final_eq"
   ]
  },
  {
   "cell_type": "code",
   "execution_count": 85,
   "id": "c9d740ad",
   "metadata": {},
   "outputs": [],
   "source": [
    "spaced_eq = test_str.replace('**', ' ^ ').replace('*', ' * ').replace('/', ' / ')\n",
    "spaced_eq = spaced_eq.replace('(', ' ( ').replace(')', ' ) ')"
   ]
  },
  {
   "cell_type": "code",
   "execution_count": 88,
   "id": "922bd53b",
   "metadata": {},
   "outputs": [],
   "source": [
    "model_things = var_list + list(param_dict.keys()) + shocks"
   ]
  },
  {
   "cell_type": "code",
   "execution_count": 86,
   "id": "986bb37b",
   "metadata": {},
   "outputs": [
    {
     "data": {
      "text/plain": [
       "'-beta * U_t+1 + U_t -  ( C_t ^ theta *  ( 1 - L_t )  ^  ( 1 - theta )  )  ^  ( 1 - tau )  /  ( 1 - tau ) '"
      ]
     },
     "execution_count": 86,
     "metadata": {},
     "output_type": "execute_result"
    }
   ],
   "source": [
    "spaced_eq"
   ]
  },
  {
   "cell_type": "code",
   "execution_count": null,
   "id": "cd482fc5",
   "metadata": {},
   "outputs": [],
   "source": []
  }
 ],
 "metadata": {
  "kernelspec": {
   "display_name": "Python 3 (ipykernel)",
   "language": "python",
   "name": "python3"
  },
  "language_info": {
   "codemirror_mode": {
    "name": "ipython",
    "version": 3
   },
   "file_extension": ".py",
   "mimetype": "text/x-python",
   "name": "python",
   "nbconvert_exporter": "python",
   "pygments_lexer": "ipython3",
   "version": "3.8.10"
  },
  "toc": {
   "base_numbering": 1,
   "nav_menu": {},
   "number_sections": true,
   "sideBar": true,
   "skip_h1_title": false,
   "title_cell": "Table of Contents",
   "title_sidebar": "Contents",
   "toc_cell": false,
   "toc_position": {},
   "toc_section_display": true,
   "toc_window_display": false
  }
 },
 "nbformat": 4,
 "nbformat_minor": 5
}
